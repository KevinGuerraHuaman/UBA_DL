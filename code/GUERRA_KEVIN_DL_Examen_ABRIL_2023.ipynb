{
  "cells": [
    {
      "attachments": {},
      "cell_type": "markdown",
      "metadata": {
        "id": "ftXnmgdtOuZs"
      },
      "source": [
        "# Universidad de Buenos Aires\n",
        "# Deep Learning - Examen\n",
        "# Abril 2023\n",
        "\n"
      ]
    },
    {
      "attachments": {},
      "cell_type": "markdown",
      "metadata": {
        "id": "aEx1gM2sG4OP"
      },
      "source": [
        "El examen comienza al momento de recibir este correo y la ventana de entrega estará abierta hasta el domingo 7 de mayo a las 20:00hs. Toda comunicación con otros alumnos respecto del examen y la resolución de los ejercicios, queda estrictamente prohibida. Los exámenes serán comparados desde el punto de vista de la redacción, de los resultados y del código para determinar que el trabajo fue 100% individual y único. El examen es a libro abierto, pudiendo utilizar los contenidos vistos en clase y otra bibliografía. Todas las soluciones deben ser originales y si se toman ideas de fuentes externas deben ser correctamente citas incluyendo el correspondiente link o página de libro.\n",
        "\n",
        "El formato de entrega debe ser un “link a un colab” (compartir a las siguientes direcciones: maxit1992@gmail.com y lelectronfou@gmail.com ) o un “link a un notebook en un github público”.\n",
        "\n",
        "**Consideraciones a tener en cuenta:**\n",
        "- Se entregará 1 solo colab para la totalidad del examen.\n",
        "- Renombrar el archivo de la siguiente manera: **APELLIDO-NOMBRE-DL-Examen ABRIL 2023.ipynb**\n",
        "- Los códigos deben poder ejecutarse.\n",
        "- Los resultados, cómo el código y las explicaciones deben quedar guardados y visualizables en el correspondiente link.\n",
        "- Prestar atención a las consignas, responder las preguntas cuando corresponda.\n",
        "\n"
      ]
    },
    {
      "attachments": {},
      "cell_type": "markdown",
      "metadata": {
        "id": "nlfSxrehmuYW"
      },
      "source": [
        "## Ejercicio 1\n",
        "\n"
      ]
    },
    {
      "attachments": {},
      "cell_type": "markdown",
      "metadata": {
        "id": "FY2z-GSXoFvq"
      },
      "source": [
        "Se quiere encontrar el máximo de la siguiente función:\n",
        "\n",
        "$z = -(x - 1)^2 - (y - 5)^2 + 3$\n",
        "\n",
        "(a) Aplicar gradiente e igualar a zero de **forma analítica** para encontrar los valores de $x$ e $y$ donde $z$ tiene un máximo. Cuál es el valor del máximo?"
      ]
    },
    {
      "attachments": {},
      "cell_type": "markdown",
      "metadata": {},
      "source": [
        "<img src='../dataset/img_ejercicio1.png'>"
      ]
    },
    {
      "attachments": {},
      "cell_type": "markdown",
      "metadata": {},
      "source": [
        "(b) **Implementar un algoritmo de** SGD para encontrar la ubicación del máximo de manera numérica."
      ]
    },
    {
      "cell_type": "code",
      "execution_count": 3,
      "metadata": {},
      "outputs": [
        {
          "name": "stdout",
          "output_type": "stream",
          "text": [
            "dx: 0.03589376858310489 dy: 0.17946884291552756\n",
            "\n",
            "Resultado aproximado:\n",
            "x =  0.9824120533942786\n",
            "y =  4.912060266971391\n"
          ]
        }
      ],
      "source": [
        "import numpy as np\n",
        "\n",
        "\n",
        "alfa=0.01\n",
        "n_iteraciones = 200\n",
        "x=0\n",
        "y=0\n",
        "\n",
        "for i in range(n_iteraciones):\n",
        "\n",
        "    #derivada\n",
        "    dx = -2*x+2\n",
        "    dy = -2*y+10\n",
        "    \n",
        "    # costo\n",
        "    z = -pow(x,2) + 2*x - pow(y,2) + 10*y - 23\n",
        "\n",
        "    # actualizacion\n",
        "    x = x + alfa*dx\n",
        "    y = y + alfa*dy\n",
        "\n",
        "print('dx:',dx, 'dy:', dy)\n",
        "\n",
        "print('\\nResultado aproximado:')\n",
        "print('x = ',x)\n",
        "print('y = ',y)\n",
        "\n"
      ]
    },
    {
      "attachments": {},
      "cell_type": "markdown",
      "metadata": {},
      "source": [
        "https://es.khanacademy.org/math/multivariable-calculus/applications-of-multivariable-derivatives/optimizing-multivariable-functions/a/what-is-gradient-descent\n"
      ]
    },
    {
      "attachments": {},
      "cell_type": "markdown",
      "metadata": {
        "id": "4CMta3Dj_Mjq"
      },
      "source": [
        "## Ejercicio 2"
      ]
    },
    {
      "attachments": {},
      "cell_type": "markdown",
      "metadata": {
        "id": "C_hXG5W6KMBx"
      },
      "source": [
        "\n",
        "\n",
        "En las siguientes imágenes, se presenta la traslación de un objeto en la capa de entrada de una CNN (el 2 de las imágenes inferiores) y las neuronas que se activan a la salida de dicha CNN para 2 tipos de propiedadedes de las CNN: *Invarianza al desplazamiento (translational invariance)* y *equivariancia al desplazamiento (translational equivariance)*.\n",
        "\n",
        "\n",
        "\n",
        "![a](https://docs.google.com/uc?id=1buWr91SCZcx4Zx55VLpAf1mCxqVgHgci)\n",
        "\n",
        "Imagen 1 link (https://drive.google.com/file/d/1buWr91SCZcx4Zx55VLpAf1mCxqVgHgci/view?usp=sharing)\n",
        "\n",
        "\n",
        "\n",
        "![b](https://docs.google.com/uc?id=1FqUKjutcRL-1Vay0HYY-1tXlISCZFH02)\n",
        "\n",
        "Imagen 2 link (https://drive.google.com/file/d/1FqUKjutcRL-1Vay0HYY-1tXlISCZFH02/view?usp=sharing)\n",
        "\n",
        "\n",
        "Preguntas:\n",
        "\n",
        "\n",
        "\n"
      ]
    },
    {
      "attachments": {},
      "cell_type": "markdown",
      "metadata": {},
      "source": [
        "a) ¿Qué imagen se corresponde con cuál propiedad? \n",
        "\n",
        "- La imagen 1 refiere a la propiedad de equivarancia a la traslación.\n",
        "\n",
        "- La iamgen 2 refiere a la propiedad de innvarianza al desplazamiento.\n"
      ]
    },
    {
      "attachments": {},
      "cell_type": "markdown",
      "metadata": {},
      "source": [
        "b) ¿Cuál/cuáles de cada capa elemental de una CNN (convolución - activación - pooling) aporta cada propiedad?\n",
        "\n",
        "- La iamgen 1 se da en la capa de convolucion.\n",
        "\n",
        "- La iamgen 2 se da en la capa de activacion y pooling."
      ]
    },
    {
      "attachments": {},
      "cell_type": "markdown",
      "metadata": {
        "id": "fvsqmJwx_Rb8"
      },
      "source": [
        "## Ejercicio 3\n",
        "\n"
      ]
    },
    {
      "attachments": {},
      "cell_type": "markdown",
      "metadata": {
        "id": "ABeIRvAkKLy7"
      },
      "source": [
        "\n",
        "\n",
        "Para la siguiente red neuronal recurrente, se pide **hallar el tamaño de la salida, de los estados ocultos y nombre y tamaño del total de parámetros entrenables**, si el vector de entrada son 5 muestras secuenciadas de una señal univariada $x(t)$.\n",
        "\n",
        "![c](https://drive.google.com/uc?export=view&id=1Fz46GTK7Oy_w5OEgwLCLfHFMr7b6-AnL)\n",
        "\n",
        "Imagen 3 link (https://drive.google.com/file/d/1Fz46GTK7Oy_w5OEgwLCLfHFMr7b6-AnL/view?usp=sharing)\n",
        "\n",
        "\n",
        "\n",
        "Ecuaciones de la RNN:\n",
        "\n",
        "$$ \\hat{y}(t) = w_{h1y} * h1(t) + w_{h2y} * h2(t) + by$$\n",
        "\n",
        "$$ h1(t) = w_{xh1} * x(t) + w_{h1h1} * h1(t-1) + w_{h2h1} * h2(t-1)+ bh1$$ \n",
        "$$ h2(t) = w_{xh2} * x(t) + w_{h2h2} * h2(t-1) + w_{h1h2} * h1(t-1)+ bh2 $$ \n",
        "\n"
      ]
    },
    {
      "attachments": {},
      "cell_type": "markdown",
      "metadata": {},
      "source": [
        "\n",
        "- Parametros:\n",
        "wh1y\n",
        "wh2y\n",
        "wxh1\n",
        "wxh2\n",
        "wh1h1\n",
        "Wh2h2\n",
        "by\n",
        "bh1\n",
        "bh2"
      ]
    },
    {
      "attachments": {},
      "cell_type": "markdown",
      "metadata": {
        "id": "WL2PjUnT_Uvk"
      },
      "source": [
        "## Ejercicio 4 "
      ]
    },
    {
      "attachments": {},
      "cell_type": "markdown",
      "metadata": {
        "id": "73yqE_Sslwif"
      },
      "source": [
        "\n",
        "\n",
        "\n",
        "Descargar el dataset del siguiente link: https://drive.google.com/file/d/1X8_G5BpQMi-Nnbtms2RL8lcWSxzD8ixd/view?usp=sharing. El dataset son compras de productos que diferentes clientes realizaron durante un black sales. El dataset contiene información sobre las transacciones y el objetivo es poder utilizar el dataset para crear diferentes modelos que puedan predecir cuánto un cliente está dispuesto a gastar en un producto en el futuro. Particularmente, vamos a tratar este problema como una clasificación donde queremos averiguar si el cliente pertenece al grupo 0 (gasta menos de 5000), al grupo 1 (gasta entre 5000 y 10000), al grupo 2 (gasta entre 10000 y 15000) o al grupo 3 (gasta más de 15000).\n",
        "\n",
        "- a)\tEntrenar un modelo de deep learning que no utilice embeddings, **descartando el `product_id` y `user_id`.**\n",
        "- b)\tEntrenar **un solo modelo** de deep learning que utilice embeddings tanto para los productos como para los usuarios. Realizar el mapeo de identificador de producto y usuarios a indices antes de separar el dataset en training, validation y testing.\n",
        "- c)\tCompare el score de cada modelo y comente lo necesario.\n",
        "\n"
      ]
    },
    {
      "attachments": {},
      "cell_type": "markdown",
      "metadata": {},
      "source": [
        "#### PARTE A"
      ]
    },
    {
      "cell_type": "code",
      "execution_count": 4,
      "metadata": {
        "id": "eLQzdNeRjzym"
      },
      "outputs": [],
      "source": [
        "import pandas as pd\n",
        "import numpy as np\n",
        "from sklearn import preprocessing\n",
        "import torch\n",
        "from torch.utils.data import Dataset, DataLoader\n",
        "from sklearn import metrics\n",
        "import torch.nn.functional as F\n",
        "import matplotlib.pyplot as plt\n",
        "from torch import nn, optim\n",
        "from sklearn.preprocessing import MinMaxScaler\n",
        "from sklearn.model_selection import train_test_split\n",
        "import seaborn as sns\n",
        "from sklearn.metrics import confusion_matrix"
      ]
    },
    {
      "attachments": {},
      "cell_type": "markdown",
      "metadata": {},
      "source": [
        "Lectura del dataset"
      ]
    },
    {
      "cell_type": "code",
      "execution_count": 5,
      "metadata": {},
      "outputs": [
        {
          "data": {
            "text/html": [
              "<div>\n",
              "<style scoped>\n",
              "    .dataframe tbody tr th:only-of-type {\n",
              "        vertical-align: middle;\n",
              "    }\n",
              "\n",
              "    .dataframe tbody tr th {\n",
              "        vertical-align: top;\n",
              "    }\n",
              "\n",
              "    .dataframe thead th {\n",
              "        text-align: right;\n",
              "    }\n",
              "</style>\n",
              "<table border=\"1\" class=\"dataframe\">\n",
              "  <thead>\n",
              "    <tr style=\"text-align: right;\">\n",
              "      <th></th>\n",
              "      <th>User_ID</th>\n",
              "      <th>Product_ID</th>\n",
              "      <th>Gender</th>\n",
              "      <th>Age</th>\n",
              "      <th>Occupation</th>\n",
              "      <th>City_Category</th>\n",
              "      <th>Stay_In_Current_City_Years</th>\n",
              "      <th>Marital_Status</th>\n",
              "      <th>Product_Category_1</th>\n",
              "      <th>Product_Category_2</th>\n",
              "      <th>Product_Category_3</th>\n",
              "      <th>Purchase</th>\n",
              "    </tr>\n",
              "  </thead>\n",
              "  <tbody>\n",
              "    <tr>\n",
              "      <th>0</th>\n",
              "      <td>1000001</td>\n",
              "      <td>P00069042</td>\n",
              "      <td>F</td>\n",
              "      <td>0-17</td>\n",
              "      <td>10</td>\n",
              "      <td>A</td>\n",
              "      <td>2</td>\n",
              "      <td>0</td>\n",
              "      <td>3</td>\n",
              "      <td>NaN</td>\n",
              "      <td>NaN</td>\n",
              "      <td>8370</td>\n",
              "    </tr>\n",
              "    <tr>\n",
              "      <th>1</th>\n",
              "      <td>1000001</td>\n",
              "      <td>P00248942</td>\n",
              "      <td>F</td>\n",
              "      <td>0-17</td>\n",
              "      <td>10</td>\n",
              "      <td>A</td>\n",
              "      <td>2</td>\n",
              "      <td>0</td>\n",
              "      <td>1</td>\n",
              "      <td>6.0</td>\n",
              "      <td>14.0</td>\n",
              "      <td>15200</td>\n",
              "    </tr>\n",
              "    <tr>\n",
              "      <th>2</th>\n",
              "      <td>1000001</td>\n",
              "      <td>P00087842</td>\n",
              "      <td>F</td>\n",
              "      <td>0-17</td>\n",
              "      <td>10</td>\n",
              "      <td>A</td>\n",
              "      <td>2</td>\n",
              "      <td>0</td>\n",
              "      <td>12</td>\n",
              "      <td>NaN</td>\n",
              "      <td>NaN</td>\n",
              "      <td>1422</td>\n",
              "    </tr>\n",
              "    <tr>\n",
              "      <th>3</th>\n",
              "      <td>1000001</td>\n",
              "      <td>P00085442</td>\n",
              "      <td>F</td>\n",
              "      <td>0-17</td>\n",
              "      <td>10</td>\n",
              "      <td>A</td>\n",
              "      <td>2</td>\n",
              "      <td>0</td>\n",
              "      <td>12</td>\n",
              "      <td>14.0</td>\n",
              "      <td>NaN</td>\n",
              "      <td>1057</td>\n",
              "    </tr>\n",
              "    <tr>\n",
              "      <th>4</th>\n",
              "      <td>1000002</td>\n",
              "      <td>P00285442</td>\n",
              "      <td>M</td>\n",
              "      <td>55+</td>\n",
              "      <td>16</td>\n",
              "      <td>C</td>\n",
              "      <td>4+</td>\n",
              "      <td>0</td>\n",
              "      <td>8</td>\n",
              "      <td>NaN</td>\n",
              "      <td>NaN</td>\n",
              "      <td>7969</td>\n",
              "    </tr>\n",
              "  </tbody>\n",
              "</table>\n",
              "</div>"
            ],
            "text/plain": [
              "   User_ID Product_ID Gender   Age  Occupation City_Category   \n",
              "0  1000001  P00069042      F  0-17          10             A  \\\n",
              "1  1000001  P00248942      F  0-17          10             A   \n",
              "2  1000001  P00087842      F  0-17          10             A   \n",
              "3  1000001  P00085442      F  0-17          10             A   \n",
              "4  1000002  P00285442      M   55+          16             C   \n",
              "\n",
              "  Stay_In_Current_City_Years  Marital_Status  Product_Category_1   \n",
              "0                          2               0                   3  \\\n",
              "1                          2               0                   1   \n",
              "2                          2               0                  12   \n",
              "3                          2               0                  12   \n",
              "4                         4+               0                   8   \n",
              "\n",
              "   Product_Category_2  Product_Category_3  Purchase  \n",
              "0                 NaN                 NaN      8370  \n",
              "1                 6.0                14.0     15200  \n",
              "2                 NaN                 NaN      1422  \n",
              "3                14.0                 NaN      1057  \n",
              "4                 NaN                 NaN      7969  "
            ]
          },
          "execution_count": 5,
          "metadata": {},
          "output_type": "execute_result"
        }
      ],
      "source": [
        "df = pd.read_csv('../dataset/dataset_black_sales.csv')\n",
        "df.head()"
      ]
    },
    {
      "cell_type": "code",
      "execution_count": 6,
      "metadata": {},
      "outputs": [
        {
          "name": "stdout",
          "output_type": "stream",
          "text": [
            "<class 'pandas.core.frame.DataFrame'>\n",
            "RangeIndex: 550068 entries, 0 to 550067\n",
            "Data columns (total 12 columns):\n",
            " #   Column                      Non-Null Count   Dtype  \n",
            "---  ------                      --------------   -----  \n",
            " 0   User_ID                     550068 non-null  int64  \n",
            " 1   Product_ID                  550068 non-null  object \n",
            " 2   Gender                      550068 non-null  object \n",
            " 3   Age                         550068 non-null  object \n",
            " 4   Occupation                  550068 non-null  int64  \n",
            " 5   City_Category               550068 non-null  object \n",
            " 6   Stay_In_Current_City_Years  550068 non-null  object \n",
            " 7   Marital_Status              550068 non-null  int64  \n",
            " 8   Product_Category_1          550068 non-null  int64  \n",
            " 9   Product_Category_2          376430 non-null  float64\n",
            " 10  Product_Category_3          166821 non-null  float64\n",
            " 11  Purchase                    550068 non-null  int64  \n",
            "dtypes: float64(2), int64(5), object(5)\n",
            "memory usage: 50.4+ MB\n"
          ]
        }
      ],
      "source": [
        "df.info()"
      ]
    },
    {
      "attachments": {},
      "cell_type": "markdown",
      "metadata": {},
      "source": [
        "Se eliminar las filas con valoreses faltantes"
      ]
    },
    {
      "cell_type": "code",
      "execution_count": 7,
      "metadata": {},
      "outputs": [
        {
          "name": "stdout",
          "output_type": "stream",
          "text": [
            "<class 'pandas.core.frame.DataFrame'>\n",
            "Index: 166821 entries, 1 to 545914\n",
            "Data columns (total 12 columns):\n",
            " #   Column                      Non-Null Count   Dtype  \n",
            "---  ------                      --------------   -----  \n",
            " 0   User_ID                     166821 non-null  int64  \n",
            " 1   Product_ID                  166821 non-null  object \n",
            " 2   Gender                      166821 non-null  object \n",
            " 3   Age                         166821 non-null  object \n",
            " 4   Occupation                  166821 non-null  int64  \n",
            " 5   City_Category               166821 non-null  object \n",
            " 6   Stay_In_Current_City_Years  166821 non-null  object \n",
            " 7   Marital_Status              166821 non-null  int64  \n",
            " 8   Product_Category_1          166821 non-null  int64  \n",
            " 9   Product_Category_2          166821 non-null  float64\n",
            " 10  Product_Category_3          166821 non-null  float64\n",
            " 11  Purchase                    166821 non-null  int64  \n",
            "dtypes: float64(2), int64(5), object(5)\n",
            "memory usage: 16.5+ MB\n"
          ]
        }
      ],
      "source": [
        "# elimina filas que contengan atributos faltantes\n",
        "\n",
        "df_clean = df.dropna()\n",
        "df_clean.info()"
      ]
    },
    {
      "attachments": {},
      "cell_type": "markdown",
      "metadata": {},
      "source": [
        "Almacenar los atributos a utilizar en el modelo con embedding y crear dataframe sin columnas 'Product_ID' y 'User_ID' para entrenar el modelo sin embedding"
      ]
    },
    {
      "cell_type": "code",
      "execution_count": 8,
      "metadata": {},
      "outputs": [
        {
          "data": {
            "text/html": [
              "<div>\n",
              "<style scoped>\n",
              "    .dataframe tbody tr th:only-of-type {\n",
              "        vertical-align: middle;\n",
              "    }\n",
              "\n",
              "    .dataframe tbody tr th {\n",
              "        vertical-align: top;\n",
              "    }\n",
              "\n",
              "    .dataframe thead th {\n",
              "        text-align: right;\n",
              "    }\n",
              "</style>\n",
              "<table border=\"1\" class=\"dataframe\">\n",
              "  <thead>\n",
              "    <tr style=\"text-align: right;\">\n",
              "      <th></th>\n",
              "      <th>Gender</th>\n",
              "      <th>Age</th>\n",
              "      <th>Occupation</th>\n",
              "      <th>City_Category</th>\n",
              "      <th>Stay_In_Current_City_Years</th>\n",
              "      <th>Marital_Status</th>\n",
              "      <th>Product_Category_1</th>\n",
              "      <th>Product_Category_2</th>\n",
              "      <th>Product_Category_3</th>\n",
              "      <th>Purchase</th>\n",
              "    </tr>\n",
              "  </thead>\n",
              "  <tbody>\n",
              "    <tr>\n",
              "      <th>1</th>\n",
              "      <td>F</td>\n",
              "      <td>0-17</td>\n",
              "      <td>10</td>\n",
              "      <td>A</td>\n",
              "      <td>2</td>\n",
              "      <td>0</td>\n",
              "      <td>1</td>\n",
              "      <td>6.0</td>\n",
              "      <td>14.0</td>\n",
              "      <td>15200</td>\n",
              "    </tr>\n",
              "    <tr>\n",
              "      <th>6</th>\n",
              "      <td>M</td>\n",
              "      <td>46-50</td>\n",
              "      <td>7</td>\n",
              "      <td>B</td>\n",
              "      <td>2</td>\n",
              "      <td>1</td>\n",
              "      <td>1</td>\n",
              "      <td>8.0</td>\n",
              "      <td>17.0</td>\n",
              "      <td>19215</td>\n",
              "    </tr>\n",
              "    <tr>\n",
              "      <th>13</th>\n",
              "      <td>M</td>\n",
              "      <td>26-35</td>\n",
              "      <td>20</td>\n",
              "      <td>A</td>\n",
              "      <td>1</td>\n",
              "      <td>1</td>\n",
              "      <td>1</td>\n",
              "      <td>2.0</td>\n",
              "      <td>5.0</td>\n",
              "      <td>15665</td>\n",
              "    </tr>\n",
              "    <tr>\n",
              "      <th>14</th>\n",
              "      <td>F</td>\n",
              "      <td>51-55</td>\n",
              "      <td>9</td>\n",
              "      <td>A</td>\n",
              "      <td>1</td>\n",
              "      <td>0</td>\n",
              "      <td>5</td>\n",
              "      <td>8.0</td>\n",
              "      <td>14.0</td>\n",
              "      <td>5378</td>\n",
              "    </tr>\n",
              "    <tr>\n",
              "      <th>16</th>\n",
              "      <td>F</td>\n",
              "      <td>51-55</td>\n",
              "      <td>9</td>\n",
              "      <td>A</td>\n",
              "      <td>1</td>\n",
              "      <td>0</td>\n",
              "      <td>2</td>\n",
              "      <td>3.0</td>\n",
              "      <td>4.0</td>\n",
              "      <td>13055</td>\n",
              "    </tr>\n",
              "  </tbody>\n",
              "</table>\n",
              "</div>"
            ],
            "text/plain": [
              "   Gender    Age  Occupation City_Category Stay_In_Current_City_Years   \n",
              "1       F   0-17          10             A                          2  \\\n",
              "6       M  46-50           7             B                          2   \n",
              "13      M  26-35          20             A                          1   \n",
              "14      F  51-55           9             A                          1   \n",
              "16      F  51-55           9             A                          1   \n",
              "\n",
              "    Marital_Status  Product_Category_1  Product_Category_2   \n",
              "1                0                   1                 6.0  \\\n",
              "6                1                   1                 8.0   \n",
              "13               1                   1                 2.0   \n",
              "14               0                   5                 8.0   \n",
              "16               0                   2                 3.0   \n",
              "\n",
              "    Product_Category_3  Purchase  \n",
              "1                 14.0     15200  \n",
              "6                 17.0     19215  \n",
              "13                 5.0     15665  \n",
              "14                14.0      5378  \n",
              "16                 4.0     13055  "
            ]
          },
          "execution_count": 8,
          "metadata": {},
          "output_type": "execute_result"
        }
      ],
      "source": [
        "# elimina product_id y user_id\n",
        "df_IDs = df_clean.loc[:,['Product_ID','User_ID']]\n",
        "\n",
        "df_clean = df_clean.drop(columns=['Product_ID','User_ID'])\n",
        "df_clean.head()"
      ]
    },
    {
      "cell_type": "code",
      "execution_count": 9,
      "metadata": {},
      "outputs": [
        {
          "data": {
            "text/plain": [
              "Gender                         object\n",
              "Age                            object\n",
              "Occupation                      int64\n",
              "City_Category                  object\n",
              "Stay_In_Current_City_Years     object\n",
              "Marital_Status                  int64\n",
              "Product_Category_1              int64\n",
              "Product_Category_2            float64\n",
              "Product_Category_3            float64\n",
              "Purchase                        int64\n",
              "dtype: object"
            ]
          },
          "execution_count": 9,
          "metadata": {},
          "output_type": "execute_result"
        }
      ],
      "source": [
        "df_clean.dtypes"
      ]
    },
    {
      "attachments": {},
      "cell_type": "markdown",
      "metadata": {},
      "source": [
        "Algunos atributos son de tipo objeto"
      ]
    },
    {
      "cell_type": "code",
      "execution_count": 10,
      "metadata": {},
      "outputs": [
        {
          "data": {
            "text/plain": [
              "Age\n",
              "26-35    66942\n",
              "36-45    33285\n",
              "18-25    31316\n",
              "46-50    13374\n",
              "51-55    11166\n",
              "55+       5865\n",
              "0-17      4873\n",
              "Name: count, dtype: int64"
            ]
          },
          "execution_count": 10,
          "metadata": {},
          "output_type": "execute_result"
        }
      ],
      "source": [
        "df_clean['Age'].value_counts()"
      ]
    },
    {
      "cell_type": "code",
      "execution_count": 11,
      "metadata": {},
      "outputs": [
        {
          "data": {
            "text/plain": [
              "City_Category\n",
              "B    69243\n",
              "C    56059\n",
              "A    41519\n",
              "Name: count, dtype: int64"
            ]
          },
          "execution_count": 11,
          "metadata": {},
          "output_type": "execute_result"
        }
      ],
      "source": [
        "df_clean['City_Category'].value_counts()"
      ]
    },
    {
      "cell_type": "code",
      "execution_count": 12,
      "metadata": {},
      "outputs": [
        {
          "data": {
            "text/plain": [
              "Stay_In_Current_City_Years\n",
              "1     58287\n",
              "2     31515\n",
              "3     29268\n",
              "4+    25362\n",
              "0     22389\n",
              "Name: count, dtype: int64"
            ]
          },
          "execution_count": 12,
          "metadata": {},
          "output_type": "execute_result"
        }
      ],
      "source": [
        "df_clean['Stay_In_Current_City_Years'].value_counts()"
      ]
    },
    {
      "attachments": {},
      "cell_type": "markdown",
      "metadata": {},
      "source": [
        "Se realiza la codificacion de cada atributo objeto:\n",
        "- Age\n",
        "- Gender\n",
        "- City_category\n",
        "- Stay_In_Current_City_Years"
      ]
    },
    {
      "cell_type": "code",
      "execution_count": 13,
      "metadata": {},
      "outputs": [],
      "source": [
        "relacion_age = {'0-17':0,\n",
        "                '18-25':1,\n",
        "                '26-35':2,\n",
        "                '36-45':3,\n",
        "                '46-50':4,\n",
        "                '51-55':5,\n",
        "                '55+':6,}\n",
        "\n",
        "relacion_gender = {'F':0,'M':1}\n",
        "\n",
        "# para city_category --> se aplica one hot ecoding\n",
        "# para Stay_In_Current_City_Years convertir 4+ en 4 y luego convertir todo de string a entero\n",
        "\n"
      ]
    },
    {
      "attachments": {},
      "cell_type": "markdown",
      "metadata": {},
      "source": [
        "Para 'City_Category' al tener 3 tipos se codifica con etiquetado numerico progresivo (0,1 y 2)"
      ]
    },
    {
      "cell_type": "code",
      "execution_count": 14,
      "metadata": {},
      "outputs": [
        {
          "data": {
            "text/plain": [
              "City_Category\n",
              "1    69243\n",
              "2    56059\n",
              "0    41519\n",
              "Name: count, dtype: int64"
            ]
          },
          "execution_count": 14,
          "metadata": {},
          "output_type": "execute_result"
        }
      ],
      "source": [
        "# city category\n",
        "from sklearn import preprocessing\n",
        "le = preprocessing.LabelEncoder()\n",
        "\n",
        "city_encoder = le.fit_transform(df_clean['City_Category'])\n",
        "\n",
        "df_clean['City_Category'] = city_encoder \n",
        "\n",
        "df_clean['City_Category'].value_counts()"
      ]
    },
    {
      "cell_type": "code",
      "execution_count": 15,
      "metadata": {},
      "outputs": [
        {
          "name": "stdout",
          "output_type": "stream",
          "text": [
            "<class 'pandas.core.frame.DataFrame'>\n",
            "Index: 166821 entries, 1 to 545914\n",
            "Data columns (total 10 columns):\n",
            " #   Column                      Non-Null Count   Dtype  \n",
            "---  ------                      --------------   -----  \n",
            " 0   Gender                      166821 non-null  object \n",
            " 1   Age                         166821 non-null  object \n",
            " 2   Occupation                  166821 non-null  int64  \n",
            " 3   City_Category               166821 non-null  int32  \n",
            " 4   Stay_In_Current_City_Years  166821 non-null  object \n",
            " 5   Marital_Status              166821 non-null  int64  \n",
            " 6   Product_Category_1          166821 non-null  int64  \n",
            " 7   Product_Category_2          166821 non-null  float64\n",
            " 8   Product_Category_3          166821 non-null  float64\n",
            " 9   Purchase                    166821 non-null  int64  \n",
            "dtypes: float64(2), int32(1), int64(4), object(3)\n",
            "memory usage: 13.4+ MB\n"
          ]
        }
      ],
      "source": [
        "df_clean.info()"
      ]
    },
    {
      "attachments": {},
      "cell_type": "markdown",
      "metadata": {},
      "source": [
        "Para 'Stay_In_Current_City_Years' se observa que solo es necesario cambiar el valor '4+' como 4 para convertir el atributo objeto en numerico"
      ]
    },
    {
      "cell_type": "code",
      "execution_count": 16,
      "metadata": {},
      "outputs": [
        {
          "data": {
            "text/plain": [
              "Stay_In_Current_City_Years\n",
              "1    58287\n",
              "2    31515\n",
              "3    29268\n",
              "4    25362\n",
              "0    22389\n",
              "Name: count, dtype: int64"
            ]
          },
          "execution_count": 16,
          "metadata": {},
          "output_type": "execute_result"
        }
      ],
      "source": [
        "# para Stay_In_Current_City_Years convertir 4+ en 4 y luego convertir todo de string a entero\n",
        "\n",
        "df_clean['Stay_In_Current_City_Years'] = df_clean['Stay_In_Current_City_Years'].replace(['4+'],4)\n",
        "\n",
        "df_clean['Stay_In_Current_City_Years'].value_counts()"
      ]
    },
    {
      "attachments": {},
      "cell_type": "markdown",
      "metadata": {},
      "source": [
        "Se aplica la codificacion por etiqueta pero personalizado tanto para 'Age' como para 'Gender'"
      ]
    },
    {
      "cell_type": "code",
      "execution_count": 17,
      "metadata": {},
      "outputs": [
        {
          "data": {
            "text/plain": [
              "Gender\n",
              "1    129227\n",
              "0     37594\n",
              "Name: count, dtype: int64"
            ]
          },
          "execution_count": 17,
          "metadata": {},
          "output_type": "execute_result"
        }
      ],
      "source": [
        "df_convert = df_clean.copy()\n",
        "\n",
        "df_convert['Gender'] = df_convert['Gender'].replace(relacion_gender)\n",
        "df_convert['Gender'].value_counts()\n"
      ]
    },
    {
      "cell_type": "code",
      "execution_count": 18,
      "metadata": {},
      "outputs": [
        {
          "data": {
            "text/plain": [
              "Age\n",
              "2    66942\n",
              "3    33285\n",
              "1    31316\n",
              "4    13374\n",
              "5    11166\n",
              "6     5865\n",
              "0     4873\n",
              "Name: count, dtype: int64"
            ]
          },
          "execution_count": 18,
          "metadata": {},
          "output_type": "execute_result"
        }
      ],
      "source": [
        "df_convert['Age'] = df_convert['Age'].replace(relacion_age)\n",
        "df_convert['Age'].value_counts()"
      ]
    },
    {
      "cell_type": "code",
      "execution_count": 19,
      "metadata": {},
      "outputs": [
        {
          "name": "stdout",
          "output_type": "stream",
          "text": [
            "<class 'pandas.core.frame.DataFrame'>\n",
            "Index: 166821 entries, 1 to 545914\n",
            "Data columns (total 10 columns):\n",
            " #   Column                      Non-Null Count   Dtype  \n",
            "---  ------                      --------------   -----  \n",
            " 0   Gender                      166821 non-null  int64  \n",
            " 1   Age                         166821 non-null  int64  \n",
            " 2   Occupation                  166821 non-null  int64  \n",
            " 3   City_Category               166821 non-null  int32  \n",
            " 4   Stay_In_Current_City_Years  166821 non-null  object \n",
            " 5   Marital_Status              166821 non-null  int64  \n",
            " 6   Product_Category_1          166821 non-null  int64  \n",
            " 7   Product_Category_2          166821 non-null  float64\n",
            " 8   Product_Category_3          166821 non-null  float64\n",
            " 9   Purchase                    166821 non-null  int64  \n",
            "dtypes: float64(2), int32(1), int64(6), object(1)\n",
            "memory usage: 13.4+ MB\n"
          ]
        }
      ],
      "source": [
        "df_convert.info()"
      ]
    },
    {
      "cell_type": "code",
      "execution_count": 20,
      "metadata": {},
      "outputs": [
        {
          "name": "stdout",
          "output_type": "stream",
          "text": [
            "<class 'pandas.core.frame.DataFrame'>\n",
            "Index: 166821 entries, 1 to 545914\n",
            "Data columns (total 10 columns):\n",
            " #   Column                      Non-Null Count   Dtype  \n",
            "---  ------                      --------------   -----  \n",
            " 0   Gender                      166821 non-null  int64  \n",
            " 1   Age                         166821 non-null  int64  \n",
            " 2   Occupation                  166821 non-null  int64  \n",
            " 3   City_Category               166821 non-null  int32  \n",
            " 4   Stay_In_Current_City_Years  166821 non-null  int64  \n",
            " 5   Marital_Status              166821 non-null  int64  \n",
            " 6   Product_Category_1          166821 non-null  int64  \n",
            " 7   Product_Category_2          166821 non-null  float64\n",
            " 8   Product_Category_3          166821 non-null  float64\n",
            " 9   Purchase                    166821 non-null  int64  \n",
            "dtypes: float64(2), int32(1), int64(7)\n",
            "memory usage: 13.4 MB\n"
          ]
        }
      ],
      "source": [
        "df_convert['Stay_In_Current_City_Years'] = pd.to_numeric(df_convert['Stay_In_Current_City_Years'])\n",
        "\n",
        "df_convert.info()"
      ]
    },
    {
      "attachments": {},
      "cell_type": "markdown",
      "metadata": {},
      "source": [
        "Se realiza una copia del dataframe procesado"
      ]
    },
    {
      "cell_type": "code",
      "execution_count": 22,
      "metadata": {},
      "outputs": [
        {
          "data": {
            "text/html": [
              "<div>\n",
              "<style scoped>\n",
              "    .dataframe tbody tr th:only-of-type {\n",
              "        vertical-align: middle;\n",
              "    }\n",
              "\n",
              "    .dataframe tbody tr th {\n",
              "        vertical-align: top;\n",
              "    }\n",
              "\n",
              "    .dataframe thead th {\n",
              "        text-align: right;\n",
              "    }\n",
              "</style>\n",
              "<table border=\"1\" class=\"dataframe\">\n",
              "  <thead>\n",
              "    <tr style=\"text-align: right;\">\n",
              "      <th></th>\n",
              "      <th>Gender</th>\n",
              "      <th>Age</th>\n",
              "      <th>Occupation</th>\n",
              "      <th>City_Category</th>\n",
              "      <th>Stay_In_Current_City_Years</th>\n",
              "      <th>Marital_Status</th>\n",
              "      <th>Product_Category_1</th>\n",
              "      <th>Product_Category_2</th>\n",
              "      <th>Product_Category_3</th>\n",
              "      <th>Purchase</th>\n",
              "    </tr>\n",
              "  </thead>\n",
              "  <tbody>\n",
              "    <tr>\n",
              "      <th>1</th>\n",
              "      <td>0</td>\n",
              "      <td>0</td>\n",
              "      <td>10</td>\n",
              "      <td>0</td>\n",
              "      <td>2</td>\n",
              "      <td>0</td>\n",
              "      <td>1</td>\n",
              "      <td>6.0</td>\n",
              "      <td>14.0</td>\n",
              "      <td>15200</td>\n",
              "    </tr>\n",
              "    <tr>\n",
              "      <th>6</th>\n",
              "      <td>1</td>\n",
              "      <td>4</td>\n",
              "      <td>7</td>\n",
              "      <td>1</td>\n",
              "      <td>2</td>\n",
              "      <td>1</td>\n",
              "      <td>1</td>\n",
              "      <td>8.0</td>\n",
              "      <td>17.0</td>\n",
              "      <td>19215</td>\n",
              "    </tr>\n",
              "    <tr>\n",
              "      <th>13</th>\n",
              "      <td>1</td>\n",
              "      <td>2</td>\n",
              "      <td>20</td>\n",
              "      <td>0</td>\n",
              "      <td>1</td>\n",
              "      <td>1</td>\n",
              "      <td>1</td>\n",
              "      <td>2.0</td>\n",
              "      <td>5.0</td>\n",
              "      <td>15665</td>\n",
              "    </tr>\n",
              "    <tr>\n",
              "      <th>14</th>\n",
              "      <td>0</td>\n",
              "      <td>5</td>\n",
              "      <td>9</td>\n",
              "      <td>0</td>\n",
              "      <td>1</td>\n",
              "      <td>0</td>\n",
              "      <td>5</td>\n",
              "      <td>8.0</td>\n",
              "      <td>14.0</td>\n",
              "      <td>5378</td>\n",
              "    </tr>\n",
              "    <tr>\n",
              "      <th>16</th>\n",
              "      <td>0</td>\n",
              "      <td>5</td>\n",
              "      <td>9</td>\n",
              "      <td>0</td>\n",
              "      <td>1</td>\n",
              "      <td>0</td>\n",
              "      <td>2</td>\n",
              "      <td>3.0</td>\n",
              "      <td>4.0</td>\n",
              "      <td>13055</td>\n",
              "    </tr>\n",
              "  </tbody>\n",
              "</table>\n",
              "</div>"
            ],
            "text/plain": [
              "    Gender  Age  Occupation  City_Category  Stay_In_Current_City_Years   \n",
              "1        0    0          10              0                           2  \\\n",
              "6        1    4           7              1                           2   \n",
              "13       1    2          20              0                           1   \n",
              "14       0    5           9              0                           1   \n",
              "16       0    5           9              0                           1   \n",
              "\n",
              "    Marital_Status  Product_Category_1  Product_Category_2   \n",
              "1                0                   1                 6.0  \\\n",
              "6                1                   1                 8.0   \n",
              "13               1                   1                 2.0   \n",
              "14               0                   5                 8.0   \n",
              "16               0                   2                 3.0   \n",
              "\n",
              "    Product_Category_3  Purchase  \n",
              "1                 14.0     15200  \n",
              "6                 17.0     19215  \n",
              "13                 5.0     15665  \n",
              "14                14.0      5378  \n",
              "16                 4.0     13055  "
            ]
          },
          "execution_count": 22,
          "metadata": {},
          "output_type": "execute_result"
        }
      ],
      "source": [
        "data_acondi = df_convert.copy()\n",
        "data_acondi.head()"
      ]
    },
    {
      "attachments": {},
      "cell_type": "markdown",
      "metadata": {},
      "source": [
        "Se reemplaza los valores de 'Purchase' con cada valor de grupo definido:\n",
        "\n",
        "- < 5000 --> 0\n",
        "- 5000 <= 'Purchase' < 10000 --> 1\n",
        "- 5000 <= 'Purchase' < 15000 --> 2\n",
        "- 15000 <= 'Purchase' --> 3"
      ]
    },
    {
      "cell_type": "code",
      "execution_count": 23,
      "metadata": {},
      "outputs": [
        {
          "data": {
            "text/html": [
              "<div>\n",
              "<style scoped>\n",
              "    .dataframe tbody tr th:only-of-type {\n",
              "        vertical-align: middle;\n",
              "    }\n",
              "\n",
              "    .dataframe tbody tr th {\n",
              "        vertical-align: top;\n",
              "    }\n",
              "\n",
              "    .dataframe thead th {\n",
              "        text-align: right;\n",
              "    }\n",
              "</style>\n",
              "<table border=\"1\" class=\"dataframe\">\n",
              "  <thead>\n",
              "    <tr style=\"text-align: right;\">\n",
              "      <th></th>\n",
              "      <th>Gender</th>\n",
              "      <th>Age</th>\n",
              "      <th>Occupation</th>\n",
              "      <th>City_Category</th>\n",
              "      <th>Stay_In_Current_City_Years</th>\n",
              "      <th>Marital_Status</th>\n",
              "      <th>Product_Category_1</th>\n",
              "      <th>Product_Category_2</th>\n",
              "      <th>Product_Category_3</th>\n",
              "      <th>Purchase</th>\n",
              "    </tr>\n",
              "  </thead>\n",
              "  <tbody>\n",
              "    <tr>\n",
              "      <th>1</th>\n",
              "      <td>0</td>\n",
              "      <td>0</td>\n",
              "      <td>10</td>\n",
              "      <td>0</td>\n",
              "      <td>2</td>\n",
              "      <td>0</td>\n",
              "      <td>1</td>\n",
              "      <td>6.0</td>\n",
              "      <td>14.0</td>\n",
              "      <td>3</td>\n",
              "    </tr>\n",
              "    <tr>\n",
              "      <th>6</th>\n",
              "      <td>1</td>\n",
              "      <td>4</td>\n",
              "      <td>7</td>\n",
              "      <td>1</td>\n",
              "      <td>2</td>\n",
              "      <td>1</td>\n",
              "      <td>1</td>\n",
              "      <td>8.0</td>\n",
              "      <td>17.0</td>\n",
              "      <td>3</td>\n",
              "    </tr>\n",
              "    <tr>\n",
              "      <th>13</th>\n",
              "      <td>1</td>\n",
              "      <td>2</td>\n",
              "      <td>20</td>\n",
              "      <td>0</td>\n",
              "      <td>1</td>\n",
              "      <td>1</td>\n",
              "      <td>1</td>\n",
              "      <td>2.0</td>\n",
              "      <td>5.0</td>\n",
              "      <td>3</td>\n",
              "    </tr>\n",
              "    <tr>\n",
              "      <th>14</th>\n",
              "      <td>0</td>\n",
              "      <td>5</td>\n",
              "      <td>9</td>\n",
              "      <td>0</td>\n",
              "      <td>1</td>\n",
              "      <td>0</td>\n",
              "      <td>5</td>\n",
              "      <td>8.0</td>\n",
              "      <td>14.0</td>\n",
              "      <td>1</td>\n",
              "    </tr>\n",
              "    <tr>\n",
              "      <th>16</th>\n",
              "      <td>0</td>\n",
              "      <td>5</td>\n",
              "      <td>9</td>\n",
              "      <td>0</td>\n",
              "      <td>1</td>\n",
              "      <td>0</td>\n",
              "      <td>2</td>\n",
              "      <td>3.0</td>\n",
              "      <td>4.0</td>\n",
              "      <td>2</td>\n",
              "    </tr>\n",
              "  </tbody>\n",
              "</table>\n",
              "</div>"
            ],
            "text/plain": [
              "    Gender  Age  Occupation  City_Category  Stay_In_Current_City_Years   \n",
              "1        0    0          10              0                           2  \\\n",
              "6        1    4           7              1                           2   \n",
              "13       1    2          20              0                           1   \n",
              "14       0    5           9              0                           1   \n",
              "16       0    5           9              0                           1   \n",
              "\n",
              "    Marital_Status  Product_Category_1  Product_Category_2   \n",
              "1                0                   1                 6.0  \\\n",
              "6                1                   1                 8.0   \n",
              "13               1                   1                 2.0   \n",
              "14               0                   5                 8.0   \n",
              "16               0                   2                 3.0   \n",
              "\n",
              "    Product_Category_3  Purchase  \n",
              "1                 14.0         3  \n",
              "6                 17.0         3  \n",
              "13                 5.0         3  \n",
              "14                14.0         1  \n",
              "16                 4.0         2  "
            ]
          },
          "execution_count": 23,
          "metadata": {},
          "output_type": "execute_result"
        }
      ],
      "source": [
        "data_acondi['Purchase'] = np.where((data_acondi['Purchase']<5000),0,data_acondi['Purchase'])\n",
        "data_acondi['Purchase'] = np.where((data_acondi['Purchase']>=5000) & (data_acondi['Purchase']<10000),1,data_acondi['Purchase'])\n",
        "data_acondi['Purchase'] = np.where((data_acondi['Purchase']>=10000) & (data_acondi['Purchase']<15000),2,data_acondi['Purchase'])\n",
        "data_acondi['Purchase'] = np.where((data_acondi['Purchase']>=15000),3,data_acondi['Purchase'])\n",
        "\n",
        "data_acondi.head()"
      ]
    },
    {
      "cell_type": "code",
      "execution_count": 24,
      "metadata": {},
      "outputs": [
        {
          "data": {
            "text/plain": [
              "array([3, 1, 2, 0], dtype=int64)"
            ]
          },
          "execution_count": 24,
          "metadata": {},
          "output_type": "execute_result"
        }
      ],
      "source": [
        "data_acondi['Purchase'].unique()"
      ]
    },
    {
      "attachments": {},
      "cell_type": "markdown",
      "metadata": {},
      "source": [
        "Se separa los atributos y el target del dataset, tambien se escala los atributos."
      ]
    },
    {
      "cell_type": "code",
      "execution_count": 25,
      "metadata": {},
      "outputs": [],
      "source": [
        "x = data_acondi.iloc[:, 0:9]\n",
        "y = data_acondi.iloc[:, 9].values\n",
        "\n",
        "scaler = MinMaxScaler()\n",
        "x = scaler.fit_transform(x)"
      ]
    },
    {
      "attachments": {},
      "cell_type": "markdown",
      "metadata": {},
      "source": [
        "Se realiza la division del dataset entre train y test"
      ]
    },
    {
      "cell_type": "code",
      "execution_count": 26,
      "metadata": {},
      "outputs": [],
      "source": [
        "previsores_treinamento, previsores_teste, classe_treinamento, classe_teste = train_test_split(x, y, test_size=0.20)"
      ]
    },
    {
      "attachments": {},
      "cell_type": "markdown",
      "metadata": {},
      "source": [
        "Acondicionamiento de tipo de dato de 'train' y 'test'"
      ]
    },
    {
      "cell_type": "code",
      "execution_count": 27,
      "metadata": {},
      "outputs": [],
      "source": [
        "previsores_treinamento = torch.tensor(previsores_treinamento, dtype = torch.float)\n",
        "classe_treinamento = torch.tensor(classe_treinamento, dtype=torch.long)"
      ]
    },
    {
      "attachments": {},
      "cell_type": "markdown",
      "metadata": {},
      "source": [
        "Se arma la red con funcion 'Sequencial' que abrevia la forma de implementacion sin necesidad de especificar la secuencia"
      ]
    },
    {
      "cell_type": "code",
      "execution_count": 28,
      "metadata": {},
      "outputs": [],
      "source": [
        "classificador = nn.Sequential(\n",
        "    nn.Linear(9, 100),\n",
        "    nn.ReLU(),\n",
        "    nn.Linear(100, 100),\n",
        "    nn.ReLU(),\n",
        "    nn.Linear(100, 4)\n",
        ")"
      ]
    },
    {
      "attachments": {},
      "cell_type": "markdown",
      "metadata": {},
      "source": [
        "Se especifica la funcion de perdida y el optimizador"
      ]
    },
    {
      "cell_type": "code",
      "execution_count": 29,
      "metadata": {},
      "outputs": [],
      "source": [
        "criterion = nn.CrossEntropyLoss()\n",
        "optimizer = optim.Adam(classificador.parameters(), lr = 0.001,weight_decay = 0.0001)\n",
        "\n",
        "dataset = torch.utils.data.TensorDataset(previsores_treinamento, classe_treinamento)\n",
        "train_loader = torch.utils.data.DataLoader(dataset, batch_size = 10, shuffle=True)"
      ]
    },
    {
      "attachments": {},
      "cell_type": "markdown",
      "metadata": {},
      "source": [
        "Se realiza el proceso de entrenamiento"
      ]
    },
    {
      "cell_type": "code",
      "execution_count": 30,
      "metadata": {},
      "outputs": [
        {
          "name": "stderr",
          "output_type": "stream",
          "text": [
            "C:\\Users\\PC-01\\AppData\\Local\\Temp\\ipykernel_20400\\3244822271.py:14: UserWarning: Implicit dimension choice for softmax has been deprecated. Change the call to include dim=X as an argument.\n",
            "  outputs = F.softmax(outputs)\n"
          ]
        },
        {
          "name": "stdout",
          "output_type": "stream",
          "text": [
            "Época   1: perda 1.07925 - accuracy 0.55258\n",
            "Época   2: perda 0.97059 - accuracy 0.60808\n",
            "Época   3: perda 0.95615 - accuracy 0.61050\n",
            "Época   4: perda 0.95012 - accuracy 0.61258\n",
            "Época   5: perda 0.94626 - accuracy 0.61356\n",
            "Época   6: perda 0.94127 - accuracy 0.61531\n",
            "Época   7: perda 0.93753 - accuracy 0.61662\n",
            "Época   8: perda 0.93445 - accuracy 0.61803\n",
            "Época   9: perda 0.93157 - accuracy 0.61832\n",
            "Época  10: perda 0.92936 - accuracy 0.61888\n",
            "Época  11: perda 0.92683 - accuracy 0.61899\n",
            "Época  12: perda 0.92560 - accuracy 0.61955\n",
            "Época  13: perda 0.92421 - accuracy 0.61940\n",
            "Época  14: perda 0.92298 - accuracy 0.61951\n",
            "Época  15: perda 0.92202 - accuracy 0.61847\n",
            "Época  16: perda 0.92099 - accuracy 0.62027\n",
            "Época  17: perda 0.92007 - accuracy 0.61960\n",
            "Época  18: perda 0.91953 - accuracy 0.62011\n",
            "Época  19: perda 0.91930 - accuracy 0.61984\n",
            "Época  20: perda 0.91874 - accuracy 0.61989\n",
            "Época  21: perda 0.91808 - accuracy 0.62024\n",
            "Época  22: perda 0.91844 - accuracy 0.62028\n",
            "Época  23: perda 0.91746 - accuracy 0.61968\n",
            "Época  24: perda 0.91733 - accuracy 0.62011\n",
            "Época  25: perda 0.91685 - accuracy 0.62002\n",
            "Época  26: perda 0.91658 - accuracy 0.62039\n",
            "Época  27: perda 0.91656 - accuracy 0.61998\n",
            "Época  28: perda 0.91645 - accuracy 0.61993\n",
            "Época  29: perda 0.91590 - accuracy 0.62014\n",
            "Época  30: perda 0.91567 - accuracy 0.62020\n",
            "Época  31: perda 0.91527 - accuracy 0.62067\n",
            "Época  32: perda 0.91501 - accuracy 0.62063\n",
            "Época  33: perda 0.91472 - accuracy 0.62014\n",
            "Época  34: perda 0.91477 - accuracy 0.62047\n",
            "Época  35: perda 0.91428 - accuracy 0.62059\n",
            "Época  36: perda 0.91445 - accuracy 0.62092\n",
            "Época  37: perda 0.91373 - accuracy 0.62084\n",
            "Época  38: perda 0.91326 - accuracy 0.62097\n",
            "Época  39: perda 0.91297 - accuracy 0.62118\n",
            "Época  40: perda 0.91320 - accuracy 0.62081\n",
            "Época  41: perda 0.91278 - accuracy 0.62105\n",
            "Época  42: perda 0.91261 - accuracy 0.62100\n",
            "Época  43: perda 0.91244 - accuracy 0.62131\n",
            "Época  44: perda 0.91183 - accuracy 0.62039\n",
            "Época  45: perda 0.91174 - accuracy 0.62129\n",
            "Época  46: perda 0.91138 - accuracy 0.62083\n",
            "Época  47: perda 0.91142 - accuracy 0.62096\n",
            "Época  48: perda 0.91185 - accuracy 0.62081\n",
            "Época  49: perda 0.91125 - accuracy 0.62112\n",
            "Época  50: perda 0.91118 - accuracy 0.62120\n",
            "Época  51: perda 0.91121 - accuracy 0.62104\n",
            "Época  52: perda 0.91090 - accuracy 0.62114\n",
            "Época  53: perda 0.91121 - accuracy 0.62125\n",
            "Época  54: perda 0.91097 - accuracy 0.62113\n",
            "Época  55: perda 0.91069 - accuracy 0.62104\n",
            "Época  56: perda 0.91063 - accuracy 0.62069\n",
            "Época  57: perda 0.91005 - accuracy 0.62071\n",
            "Época  58: perda 0.91081 - accuracy 0.62029\n",
            "Época  59: perda 0.91073 - accuracy 0.62163\n",
            "Época  60: perda 0.91046 - accuracy 0.62104\n",
            "Época  61: perda 0.91076 - accuracy 0.62093\n",
            "Época  62: perda 0.91011 - accuracy 0.62095\n",
            "Época  63: perda 0.91041 - accuracy 0.62112\n",
            "Época  64: perda 0.91027 - accuracy 0.62160\n",
            "Época  65: perda 0.91055 - accuracy 0.62084\n",
            "Época  66: perda 0.90991 - accuracy 0.62084\n",
            "Época  67: perda 0.90978 - accuracy 0.62098\n",
            "Época  68: perda 0.91000 - accuracy 0.62087\n",
            "Época  69: perda 0.91005 - accuracy 0.62071\n",
            "Época  70: perda 0.90996 - accuracy 0.62031\n",
            "Época  71: perda 0.91007 - accuracy 0.62080\n",
            "Época  72: perda 0.90976 - accuracy 0.62108\n",
            "Época  73: perda 0.90987 - accuracy 0.62076\n",
            "Época  74: perda 0.90969 - accuracy 0.62077\n",
            "Época  75: perda 0.90987 - accuracy 0.62106\n",
            "Época  76: perda 0.90993 - accuracy 0.62079\n",
            "Época  77: perda 0.90953 - accuracy 0.62086\n",
            "Época  78: perda 0.90996 - accuracy 0.62088\n",
            "Época  79: perda 0.90937 - accuracy 0.62141\n",
            "Época  80: perda 0.90957 - accuracy 0.62090\n",
            "Época  81: perda 0.90960 - accuracy 0.62053\n",
            "Época  82: perda 0.90937 - accuracy 0.62145\n",
            "Época  83: perda 0.90940 - accuracy 0.62081\n",
            "Época  84: perda 0.90965 - accuracy 0.62080\n",
            "Época  85: perda 0.90944 - accuracy 0.62032\n",
            "Época  86: perda 0.90942 - accuracy 0.62138\n",
            "Época  87: perda 0.90985 - accuracy 0.62070\n",
            "Época  88: perda 0.90961 - accuracy 0.62109\n",
            "Época  89: perda 0.90934 - accuracy 0.62129\n",
            "Época  90: perda 0.90940 - accuracy 0.62048\n",
            "Época  91: perda 0.90954 - accuracy 0.62070\n",
            "Época  92: perda 0.90947 - accuracy 0.62116\n",
            "Época  93: perda 0.90880 - accuracy 0.62122\n",
            "Época  94: perda 0.90919 - accuracy 0.62042\n",
            "Época  95: perda 0.90921 - accuracy 0.62077\n",
            "Época  96: perda 0.90909 - accuracy 0.62113\n",
            "Época  97: perda 0.90913 - accuracy 0.62114\n",
            "Época  98: perda 0.90898 - accuracy 0.62126\n",
            "Época  99: perda 0.90903 - accuracy 0.62123\n",
            "Época 100: perda 0.90913 - accuracy 0.62112\n"
          ]
        }
      ],
      "source": [
        "for epoch in range(100):\n",
        "  running_loss = 0.\n",
        "  running_accuracy = 0.\n",
        "  \n",
        "  for data in train_loader:\n",
        "    inputs, labels = data\n",
        "\n",
        "    optimizer.zero_grad()\n",
        "\n",
        "    outputs = classificador.forward(inputs)\n",
        "    loss = criterion(outputs, labels)\n",
        "    loss.backward()\n",
        "\n",
        "    outputs = F.softmax(outputs)\n",
        "    top_p, top_class = outputs.topk(k = 1, dim = 1)\n",
        "\n",
        "    equals = top_class == labels.view(*top_class.shape)\n",
        "\n",
        "    running_accuracy += torch.mean(equals.type(torch.float))\n",
        "\n",
        "    optimizer.step()\n",
        "\n",
        "    running_loss += loss.item()\n",
        "  \n",
        "  print('Época %3d: perda %.5f - accuracy %.5f' % (epoch + 1, running_loss/len(train_loader),\n",
        "        running_accuracy/len(train_loader)))"
      ]
    },
    {
      "cell_type": "code",
      "execution_count": null,
      "metadata": {},
      "outputs": [],
      "source": []
    },
    {
      "attachments": {},
      "cell_type": "markdown",
      "metadata": {},
      "source": [
        "#### PARTE B"
      ]
    },
    {
      "attachments": {},
      "cell_type": "markdown",
      "metadata": {},
      "source": [
        "Se visualiza el dataframe con los atributos almacenados previamente"
      ]
    },
    {
      "cell_type": "code",
      "execution_count": 56,
      "metadata": {},
      "outputs": [
        {
          "data": {
            "text/html": [
              "<div>\n",
              "<style scoped>\n",
              "    .dataframe tbody tr th:only-of-type {\n",
              "        vertical-align: middle;\n",
              "    }\n",
              "\n",
              "    .dataframe tbody tr th {\n",
              "        vertical-align: top;\n",
              "    }\n",
              "\n",
              "    .dataframe thead th {\n",
              "        text-align: right;\n",
              "    }\n",
              "</style>\n",
              "<table border=\"1\" class=\"dataframe\">\n",
              "  <thead>\n",
              "    <tr style=\"text-align: right;\">\n",
              "      <th></th>\n",
              "      <th>Product_ID</th>\n",
              "      <th>User_ID</th>\n",
              "    </tr>\n",
              "  </thead>\n",
              "  <tbody>\n",
              "    <tr>\n",
              "      <th>1</th>\n",
              "      <td>P00248942</td>\n",
              "      <td>1000001</td>\n",
              "    </tr>\n",
              "    <tr>\n",
              "      <th>6</th>\n",
              "      <td>P00184942</td>\n",
              "      <td>1000004</td>\n",
              "    </tr>\n",
              "    <tr>\n",
              "      <th>13</th>\n",
              "      <td>P00145042</td>\n",
              "      <td>1000005</td>\n",
              "    </tr>\n",
              "    <tr>\n",
              "      <th>14</th>\n",
              "      <td>P00231342</td>\n",
              "      <td>1000006</td>\n",
              "    </tr>\n",
              "    <tr>\n",
              "      <th>16</th>\n",
              "      <td>P0096642</td>\n",
              "      <td>1000006</td>\n",
              "    </tr>\n",
              "  </tbody>\n",
              "</table>\n",
              "</div>"
            ],
            "text/plain": [
              "   Product_ID  User_ID\n",
              "1   P00248942  1000001\n",
              "6   P00184942  1000004\n",
              "13  P00145042  1000005\n",
              "14  P00231342  1000006\n",
              "16   P0096642  1000006"
            ]
          },
          "execution_count": 56,
          "metadata": {},
          "output_type": "execute_result"
        }
      ],
      "source": [
        "df_IDs.head()"
      ]
    },
    {
      "attachments": {},
      "cell_type": "markdown",
      "metadata": {},
      "source": [
        "Se raeliza el conteo unico de los atributos 'Product_ID' y 'User_ID'"
      ]
    },
    {
      "cell_type": "code",
      "execution_count": 57,
      "metadata": {},
      "outputs": [
        {
          "name": "stdout",
          "output_type": "stream",
          "text": [
            "Product_ID:  528\n",
            "User_ID:  5870\n"
          ]
        }
      ],
      "source": [
        "print('Product_ID: ',len(df_IDs['Product_ID'].unique()))\n",
        "print('User_ID: ',len(df_IDs['User_ID'].unique()))"
      ]
    },
    {
      "attachments": {},
      "cell_type": "markdown",
      "metadata": {},
      "source": [
        "Se identifica cada indice de los atributos"
      ]
    },
    {
      "cell_type": "code",
      "execution_count": 58,
      "metadata": {},
      "outputs": [],
      "source": [
        "product_id_to_idx = {value:i for i,value in enumerate(df_IDs['Product_ID'].unique())}\n",
        "user_id_to_idx = {value:i for i,value in enumerate(df_IDs['User_ID'].unique())}"
      ]
    },
    {
      "cell_type": "code",
      "execution_count": 59,
      "metadata": {},
      "outputs": [],
      "source": [
        "# Vector de vendor_idx en el dataset\n",
        "product_idx = np.array([product_id_to_idx[value] for value in df_IDs['Product_ID']])\n",
        "user_idx = np.array([user_id_to_idx[value] for value in df_IDs['User_ID']])\n"
      ]
    },
    {
      "cell_type": "code",
      "execution_count": 60,
      "metadata": {},
      "outputs": [
        {
          "data": {
            "text/html": [
              "<div>\n",
              "<style scoped>\n",
              "    .dataframe tbody tr th:only-of-type {\n",
              "        vertical-align: middle;\n",
              "    }\n",
              "\n",
              "    .dataframe tbody tr th {\n",
              "        vertical-align: top;\n",
              "    }\n",
              "\n",
              "    .dataframe thead th {\n",
              "        text-align: right;\n",
              "    }\n",
              "</style>\n",
              "<table border=\"1\" class=\"dataframe\">\n",
              "  <thead>\n",
              "    <tr style=\"text-align: right;\">\n",
              "      <th></th>\n",
              "      <th>Gender</th>\n",
              "      <th>Age</th>\n",
              "      <th>Occupation</th>\n",
              "      <th>City_Category</th>\n",
              "      <th>Stay_In_Current_City_Years</th>\n",
              "      <th>Marital_Status</th>\n",
              "      <th>Product_Category_1</th>\n",
              "      <th>Product_Category_2</th>\n",
              "      <th>Product_Category_3</th>\n",
              "      <th>Purchase</th>\n",
              "    </tr>\n",
              "  </thead>\n",
              "  <tbody>\n",
              "    <tr>\n",
              "      <th>1</th>\n",
              "      <td>0</td>\n",
              "      <td>0</td>\n",
              "      <td>10</td>\n",
              "      <td>0</td>\n",
              "      <td>2</td>\n",
              "      <td>0</td>\n",
              "      <td>1</td>\n",
              "      <td>6.0</td>\n",
              "      <td>14.0</td>\n",
              "      <td>3</td>\n",
              "    </tr>\n",
              "    <tr>\n",
              "      <th>6</th>\n",
              "      <td>1</td>\n",
              "      <td>4</td>\n",
              "      <td>7</td>\n",
              "      <td>1</td>\n",
              "      <td>2</td>\n",
              "      <td>1</td>\n",
              "      <td>1</td>\n",
              "      <td>8.0</td>\n",
              "      <td>17.0</td>\n",
              "      <td>3</td>\n",
              "    </tr>\n",
              "    <tr>\n",
              "      <th>13</th>\n",
              "      <td>1</td>\n",
              "      <td>2</td>\n",
              "      <td>20</td>\n",
              "      <td>0</td>\n",
              "      <td>1</td>\n",
              "      <td>1</td>\n",
              "      <td>1</td>\n",
              "      <td>2.0</td>\n",
              "      <td>5.0</td>\n",
              "      <td>3</td>\n",
              "    </tr>\n",
              "    <tr>\n",
              "      <th>14</th>\n",
              "      <td>0</td>\n",
              "      <td>5</td>\n",
              "      <td>9</td>\n",
              "      <td>0</td>\n",
              "      <td>1</td>\n",
              "      <td>0</td>\n",
              "      <td>5</td>\n",
              "      <td>8.0</td>\n",
              "      <td>14.0</td>\n",
              "      <td>1</td>\n",
              "    </tr>\n",
              "    <tr>\n",
              "      <th>16</th>\n",
              "      <td>0</td>\n",
              "      <td>5</td>\n",
              "      <td>9</td>\n",
              "      <td>0</td>\n",
              "      <td>1</td>\n",
              "      <td>0</td>\n",
              "      <td>2</td>\n",
              "      <td>3.0</td>\n",
              "      <td>4.0</td>\n",
              "      <td>2</td>\n",
              "    </tr>\n",
              "  </tbody>\n",
              "</table>\n",
              "</div>"
            ],
            "text/plain": [
              "    Gender  Age  Occupation  City_Category  Stay_In_Current_City_Years   \n",
              "1        0    0          10              0                           2  \\\n",
              "6        1    4           7              1                           2   \n",
              "13       1    2          20              0                           1   \n",
              "14       0    5           9              0                           1   \n",
              "16       0    5           9              0                           1   \n",
              "\n",
              "    Marital_Status  Product_Category_1  Product_Category_2   \n",
              "1                0                   1                 6.0  \\\n",
              "6                1                   1                 8.0   \n",
              "13               1                   1                 2.0   \n",
              "14               0                   5                 8.0   \n",
              "16               0                   2                 3.0   \n",
              "\n",
              "    Product_Category_3  Purchase  \n",
              "1                 14.0         3  \n",
              "6                 17.0         3  \n",
              "13                 5.0         3  \n",
              "14                14.0         1  \n",
              "16                 4.0         2  "
            ]
          },
          "execution_count": 60,
          "metadata": {},
          "output_type": "execute_result"
        }
      ],
      "source": [
        "data_acondi.head()"
      ]
    },
    {
      "attachments": {},
      "cell_type": "markdown",
      "metadata": {},
      "source": [
        "Se realiza la division de atributo y target"
      ]
    },
    {
      "cell_type": "code",
      "execution_count": 61,
      "metadata": {},
      "outputs": [],
      "source": [
        "x = data_acondi.iloc[:, 0:9].values\n",
        "y = data_acondi.iloc[:, 9].values\n",
        "\n",
        "# Normalizacion\n",
        "x_norm = (x - np.min(x, axis=0)) / (np.max(x, axis=0 ) - np.min(x, axis=0))\n",
        "\n",
        "# Divido el dataset\n",
        "idx = np.random.permutation(x_norm.shape[0])\n",
        "train_idx = idx[0:int(0.80*len(idx))]\n",
        "valid_idx = idx[int(0.80*len(idx)):]"
      ]
    },
    {
      "attachments": {},
      "cell_type": "markdown",
      "metadata": {},
      "source": [
        "Se realiza la division para entrenameinto y testo o validación de --> atributos utilizados en el modelo sin embedding"
      ]
    },
    {
      "cell_type": "code",
      "execution_count": 62,
      "metadata": {},
      "outputs": [],
      "source": [
        "# atributos \n",
        "train_x = x_norm[train_idx]\n",
        "train_y = y[train_idx]\n",
        "valid_x = x_norm[valid_idx]\n",
        "valid_y = y[valid_idx]\n",
        "\n",
        "n_train = train_x.shape[0]\n",
        "n_valid = valid_x.shape[0]"
      ]
    },
    {
      "attachments": {},
      "cell_type": "markdown",
      "metadata": {},
      "source": [
        "Se realiza la division para entrenamiento y testeo o validación de --> atributos 'user_id' y 'product_id'"
      ]
    },
    {
      "cell_type": "code",
      "execution_count": 63,
      "metadata": {},
      "outputs": [],
      "source": [
        "# Divido el vector vendor_idx en entrenamiento y validación\n",
        "product_idx_train = product_idx[train_idx]\n",
        "product_idx_valid = product_idx[valid_idx]\n",
        "\n",
        "user_idx_train = user_idx[train_idx]\n",
        "user_idx_valid = user_idx[valid_idx]"
      ]
    },
    {
      "attachments": {},
      "cell_type": "markdown",
      "metadata": {},
      "source": [
        "Se implementa la clase Dataset"
      ]
    },
    {
      "cell_type": "code",
      "execution_count": 118,
      "metadata": {},
      "outputs": [],
      "source": [
        "# Clase Dataset de Pytorch con embeddings\n",
        "class MyDatasetWithEmbddings(Dataset):\n",
        "\n",
        "  def __init__(self, x, product_idx, user_idx, y):\n",
        "    self.x = x\n",
        "    self.product_idx = product_idx\n",
        "    self.user_idx = user_idx\n",
        "    self.y = y\n",
        "\n",
        "  def __len__(self):\n",
        "    return self.x.shape[0]\n",
        "\n",
        "  def __getitem__(self, idx):\n",
        "    return self.x[idx], self.product_idx[idx],self.user_idx[idx], self.y[idx]"
      ]
    },
    {
      "cell_type": "code",
      "execution_count": 119,
      "metadata": {},
      "outputs": [],
      "source": [
        "train_ds_embeddings = MyDatasetWithEmbddings(train_x, product_idx_train, user_idx_train, train_y)\n",
        "valid_ds_embeddings = MyDatasetWithEmbddings(valid_x, product_idx_valid, user_idx_valid, valid_y)\n",
        "\n",
        "train_dataloader_emb = DataLoader(train_ds_embeddings, batch_size = 64, shuffle= True)\n",
        "valid_dataloader_emb = DataLoader(valid_ds_embeddings, batch_size = 64)"
      ]
    },
    {
      "attachments": {},
      "cell_type": "markdown",
      "metadata": {},
      "source": [
        "Arquitectura con embeddings"
      ]
    },
    {
      "cell_type": "code",
      "execution_count": 120,
      "metadata": {},
      "outputs": [],
      "source": [
        "\n",
        "class NNetWithEmbeddings(torch.nn.Module):\n",
        "\n",
        "  def __init__(self):\n",
        "    super().__init__()\n",
        "    self.embeddings_1 = torch.nn.Embedding(num_embeddings=528, embedding_dim=8)\n",
        "    self.embeddings_2 = torch.nn.Embedding(num_embeddings=5870, embedding_dim=8)\n",
        "\n",
        "    self.linear_1 = torch.nn.Linear(in_features=9+16, out_features=100, bias=True)\n",
        "    self.relu_1 = torch.nn.ReLU()\n",
        "    self.linear_2 = torch.nn.Linear(in_features = 100, out_features=100, bias=True)\n",
        "    self.relu_2 = torch.nn.ReLU()\n",
        "    self.output = torch.nn.Linear(in_features = 100, out_features= 4, bias=True)\n",
        "\n",
        "  def forward(self, x, product_idx,user_idx):\n",
        "    embeddings_outputs_1 = self.embeddings_1(product_idx)\n",
        "    embeddings_outputs_2 = self.embeddings_2(user_idx)\n",
        "\n",
        "    x = torch.cat([x, embeddings_outputs_1, embeddings_outputs_2], dim=1)\n",
        "    x = self.linear_1(x)\n",
        "    x = self.relu_1(x)\n",
        "    x = self.linear_2(x)\n",
        "    x = self.relu_2(x)\n",
        "    x = self.output(x)\n",
        "    return x"
      ]
    },
    {
      "cell_type": "code",
      "execution_count": 121,
      "metadata": {},
      "outputs": [
        {
          "name": "stdout",
          "output_type": "stream",
          "text": [
            "cuda:0\n"
          ]
        }
      ],
      "source": [
        "device = \"cpu\"\n",
        "if torch.cuda.is_available():\n",
        "  device = \"cuda:0\"\n",
        "\n",
        "print(device)\n",
        "\n",
        "nnnetWithEmbeddings = NNetWithEmbeddings()\n",
        "nnnetWithEmbeddings = nnnetWithEmbeddings.to(device)"
      ]
    },
    {
      "cell_type": "code",
      "execution_count": 122,
      "metadata": {},
      "outputs": [],
      "source": [
        "loss_function = torch.nn.CrossEntropyLoss()\n",
        "\n",
        "optimizer = torch.optim.Adam(nnnetWithEmbeddings.parameters(), lr = 0.001,weight_decay = 0.001)"
      ]
    },
    {
      "cell_type": "code",
      "execution_count": 123,
      "metadata": {},
      "outputs": [
        {
          "name": "stdout",
          "output_type": "stream",
          "text": [
            " Epoch 0 | Train/Valid loss: 0.016 / 0.014 | Train/Valid accuracy: 0.574 / 0.639\n",
            " Epoch 1 | Train/Valid loss: 0.013 / 0.012 | Train/Valid accuracy: 0.645 / 0.665\n",
            " Epoch 2 | Train/Valid loss: 0.012 / 0.012 | Train/Valid accuracy: 0.663 / 0.667\n",
            " Epoch 3 | Train/Valid loss: 0.012 / 0.012 | Train/Valid accuracy: 0.669 / 0.666\n",
            " Epoch 4 | Train/Valid loss: 0.012 / 0.012 | Train/Valid accuracy: 0.671 / 0.672\n",
            " Epoch 5 | Train/Valid loss: 0.012 / 0.012 | Train/Valid accuracy: 0.673 / 0.673\n",
            " Epoch 6 | Train/Valid loss: 0.012 / 0.012 | Train/Valid accuracy: 0.674 / 0.672\n",
            " Epoch 7 | Train/Valid loss: 0.012 / 0.012 | Train/Valid accuracy: 0.674 / 0.673\n",
            " Epoch 8 | Train/Valid loss: 0.012 / 0.012 | Train/Valid accuracy: 0.674 / 0.674\n",
            " Epoch 9 | Train/Valid loss: 0.012 / 0.012 | Train/Valid accuracy: 0.675 / 0.661\n",
            " Epoch 10 | Train/Valid loss: 0.012 / 0.012 | Train/Valid accuracy: 0.676 / 0.673\n",
            " Epoch 11 | Train/Valid loss: 0.012 / 0.012 | Train/Valid accuracy: 0.676 / 0.673\n",
            " Epoch 12 | Train/Valid loss: 0.012 / 0.012 | Train/Valid accuracy: 0.676 / 0.675\n",
            " Epoch 13 | Train/Valid loss: 0.012 / 0.012 | Train/Valid accuracy: 0.675 / 0.673\n",
            " Epoch 14 | Train/Valid loss: 0.012 / 0.012 | Train/Valid accuracy: 0.677 / 0.673\n",
            " Epoch 15 | Train/Valid loss: 0.012 / 0.012 | Train/Valid accuracy: 0.678 / 0.675\n",
            " Epoch 16 | Train/Valid loss: 0.012 / 0.012 | Train/Valid accuracy: 0.677 / 0.667\n",
            " Epoch 17 | Train/Valid loss: 0.012 / 0.012 | Train/Valid accuracy: 0.677 / 0.673\n",
            " Epoch 18 | Train/Valid loss: 0.012 / 0.012 | Train/Valid accuracy: 0.677 / 0.676\n",
            " Epoch 19 | Train/Valid loss: 0.012 / 0.012 | Train/Valid accuracy: 0.677 / 0.671\n",
            " Epoch 20 | Train/Valid loss: 0.012 / 0.012 | Train/Valid accuracy: 0.678 / 0.677\n",
            " Epoch 21 | Train/Valid loss: 0.012 / 0.012 | Train/Valid accuracy: 0.677 / 0.674\n",
            " Epoch 22 | Train/Valid loss: 0.012 / 0.012 | Train/Valid accuracy: 0.679 / 0.674\n",
            " Epoch 23 | Train/Valid loss: 0.012 / 0.012 | Train/Valid accuracy: 0.678 / 0.673\n",
            " Epoch 24 | Train/Valid loss: 0.012 / 0.012 | Train/Valid accuracy: 0.678 / 0.675\n",
            " Epoch 25 | Train/Valid loss: 0.012 / 0.012 | Train/Valid accuracy: 0.680 / 0.670\n",
            " Epoch 26 | Train/Valid loss: 0.012 / 0.012 | Train/Valid accuracy: 0.679 / 0.676\n",
            " Epoch 27 | Train/Valid loss: 0.012 / 0.012 | Train/Valid accuracy: 0.679 / 0.675\n",
            " Epoch 28 | Train/Valid loss: 0.012 / 0.012 | Train/Valid accuracy: 0.679 / 0.674\n",
            " Epoch 29 | Train/Valid loss: 0.012 / 0.012 | Train/Valid accuracy: 0.680 / 0.675\n",
            " Epoch 30 | Train/Valid loss: 0.012 / 0.012 | Train/Valid accuracy: 0.679 / 0.673\n",
            " Epoch 31 | Train/Valid loss: 0.012 / 0.012 | Train/Valid accuracy: 0.679 / 0.673\n",
            " Epoch 32 | Train/Valid loss: 0.012 / 0.012 | Train/Valid accuracy: 0.679 / 0.674\n",
            " Epoch 33 | Train/Valid loss: 0.012 / 0.012 | Train/Valid accuracy: 0.680 / 0.676\n",
            " Epoch 34 | Train/Valid loss: 0.012 / 0.012 | Train/Valid accuracy: 0.680 / 0.674\n",
            " Epoch 35 | Train/Valid loss: 0.012 / 0.012 | Train/Valid accuracy: 0.679 / 0.673\n",
            " Epoch 36 | Train/Valid loss: 0.012 / 0.012 | Train/Valid accuracy: 0.679 / 0.676\n",
            " Epoch 37 | Train/Valid loss: 0.012 / 0.012 | Train/Valid accuracy: 0.679 / 0.675\n",
            " Epoch 38 | Train/Valid loss: 0.012 / 0.012 | Train/Valid accuracy: 0.680 / 0.672\n",
            " Epoch 39 | Train/Valid loss: 0.012 / 0.012 | Train/Valid accuracy: 0.679 / 0.674\n",
            " Epoch 40 | Train/Valid loss: 0.012 / 0.012 | Train/Valid accuracy: 0.680 / 0.674\n",
            " Epoch 41 | Train/Valid loss: 0.012 / 0.012 | Train/Valid accuracy: 0.680 / 0.676\n",
            " Epoch 42 | Train/Valid loss: 0.012 / 0.012 | Train/Valid accuracy: 0.680 / 0.675\n",
            " Epoch 43 | Train/Valid loss: 0.012 / 0.012 | Train/Valid accuracy: 0.679 / 0.672\n",
            " Epoch 44 | Train/Valid loss: 0.012 / 0.012 | Train/Valid accuracy: 0.680 / 0.675\n",
            " Epoch 45 | Train/Valid loss: 0.012 / 0.012 | Train/Valid accuracy: 0.680 / 0.674\n",
            " Epoch 46 | Train/Valid loss: 0.012 / 0.012 | Train/Valid accuracy: 0.679 / 0.675\n",
            " Epoch 47 | Train/Valid loss: 0.012 / 0.012 | Train/Valid accuracy: 0.679 / 0.673\n",
            " Epoch 48 | Train/Valid loss: 0.012 / 0.012 | Train/Valid accuracy: 0.680 / 0.677\n",
            " Epoch 49 | Train/Valid loss: 0.012 / 0.012 | Train/Valid accuracy: 0.680 / 0.676\n",
            " Epoch 50 | Train/Valid loss: 0.012 / 0.012 | Train/Valid accuracy: 0.680 / 0.674\n",
            " Epoch 51 | Train/Valid loss: 0.012 / 0.012 | Train/Valid accuracy: 0.680 / 0.675\n",
            " Epoch 52 | Train/Valid loss: 0.012 / 0.012 | Train/Valid accuracy: 0.679 / 0.674\n",
            " Epoch 53 | Train/Valid loss: 0.012 / 0.012 | Train/Valid accuracy: 0.679 / 0.675\n",
            " Epoch 54 | Train/Valid loss: 0.012 / 0.012 | Train/Valid accuracy: 0.680 / 0.675\n",
            " Epoch 55 | Train/Valid loss: 0.012 / 0.012 | Train/Valid accuracy: 0.680 / 0.674\n",
            " Epoch 56 | Train/Valid loss: 0.012 / 0.012 | Train/Valid accuracy: 0.680 / 0.674\n",
            " Epoch 57 | Train/Valid loss: 0.012 / 0.012 | Train/Valid accuracy: 0.680 / 0.677\n",
            " Epoch 58 | Train/Valid loss: 0.012 / 0.012 | Train/Valid accuracy: 0.679 / 0.674\n",
            " Epoch 59 | Train/Valid loss: 0.012 / 0.012 | Train/Valid accuracy: 0.680 / 0.676\n",
            " Epoch 60 | Train/Valid loss: 0.012 / 0.012 | Train/Valid accuracy: 0.680 / 0.674\n",
            " Epoch 61 | Train/Valid loss: 0.012 / 0.012 | Train/Valid accuracy: 0.680 / 0.674\n",
            " Epoch 62 | Train/Valid loss: 0.012 / 0.012 | Train/Valid accuracy: 0.680 / 0.672\n",
            " Epoch 63 | Train/Valid loss: 0.012 / 0.012 | Train/Valid accuracy: 0.680 / 0.674\n",
            " Epoch 64 | Train/Valid loss: 0.012 / 0.012 | Train/Valid accuracy: 0.681 / 0.674\n",
            " Epoch 65 | Train/Valid loss: 0.012 / 0.012 | Train/Valid accuracy: 0.680 / 0.674\n",
            " Epoch 66 | Train/Valid loss: 0.012 / 0.012 | Train/Valid accuracy: 0.680 / 0.674\n",
            " Epoch 67 | Train/Valid loss: 0.012 / 0.012 | Train/Valid accuracy: 0.680 / 0.674\n",
            " Epoch 68 | Train/Valid loss: 0.012 / 0.012 | Train/Valid accuracy: 0.679 / 0.675\n",
            " Epoch 69 | Train/Valid loss: 0.012 / 0.012 | Train/Valid accuracy: 0.680 / 0.674\n",
            " Epoch 70 | Train/Valid loss: 0.012 / 0.012 | Train/Valid accuracy: 0.680 / 0.676\n",
            " Epoch 71 | Train/Valid loss: 0.012 / 0.012 | Train/Valid accuracy: 0.680 / 0.674\n",
            " Epoch 72 | Train/Valid loss: 0.012 / 0.012 | Train/Valid accuracy: 0.680 / 0.672\n",
            " Epoch 73 | Train/Valid loss: 0.012 / 0.012 | Train/Valid accuracy: 0.680 / 0.675\n",
            " Epoch 74 | Train/Valid loss: 0.012 / 0.012 | Train/Valid accuracy: 0.680 / 0.675\n",
            " Epoch 75 | Train/Valid loss: 0.012 / 0.012 | Train/Valid accuracy: 0.680 / 0.673\n",
            " Epoch 76 | Train/Valid loss: 0.012 / 0.012 | Train/Valid accuracy: 0.680 / 0.674\n",
            " Epoch 77 | Train/Valid loss: 0.012 / 0.012 | Train/Valid accuracy: 0.680 / 0.673\n",
            " Epoch 78 | Train/Valid loss: 0.012 / 0.012 | Train/Valid accuracy: 0.680 / 0.675\n",
            " Epoch 79 | Train/Valid loss: 0.012 / 0.012 | Train/Valid accuracy: 0.681 / 0.675\n",
            " Epoch 80 | Train/Valid loss: 0.012 / 0.012 | Train/Valid accuracy: 0.680 / 0.671\n",
            " Epoch 81 | Train/Valid loss: 0.012 / 0.012 | Train/Valid accuracy: 0.681 / 0.673\n",
            " Epoch 82 | Train/Valid loss: 0.012 / 0.012 | Train/Valid accuracy: 0.679 / 0.675\n",
            " Epoch 83 | Train/Valid loss: 0.012 / 0.012 | Train/Valid accuracy: 0.680 / 0.674\n",
            " Epoch 84 | Train/Valid loss: 0.012 / 0.012 | Train/Valid accuracy: 0.680 / 0.673\n",
            " Epoch 85 | Train/Valid loss: 0.012 / 0.012 | Train/Valid accuracy: 0.680 / 0.672\n",
            " Epoch 86 | Train/Valid loss: 0.012 / 0.012 | Train/Valid accuracy: 0.680 / 0.675\n",
            " Epoch 87 | Train/Valid loss: 0.012 / 0.012 | Train/Valid accuracy: 0.680 / 0.675\n",
            " Epoch 88 | Train/Valid loss: 0.012 / 0.012 | Train/Valid accuracy: 0.680 / 0.676\n",
            " Epoch 89 | Train/Valid loss: 0.012 / 0.012 | Train/Valid accuracy: 0.680 / 0.673\n",
            " Epoch 90 | Train/Valid loss: 0.012 / 0.012 | Train/Valid accuracy: 0.680 / 0.676\n",
            " Epoch 91 | Train/Valid loss: 0.012 / 0.012 | Train/Valid accuracy: 0.680 / 0.674\n",
            " Epoch 92 | Train/Valid loss: 0.012 / 0.012 | Train/Valid accuracy: 0.680 / 0.672\n",
            " Epoch 93 | Train/Valid loss: 0.012 / 0.012 | Train/Valid accuracy: 0.679 / 0.674\n",
            " Epoch 94 | Train/Valid loss: 0.012 / 0.012 | Train/Valid accuracy: 0.681 / 0.674\n",
            " Epoch 95 | Train/Valid loss: 0.012 / 0.012 | Train/Valid accuracy: 0.680 / 0.676\n",
            " Epoch 96 | Train/Valid loss: 0.012 / 0.012 | Train/Valid accuracy: 0.680 / 0.674\n",
            " Epoch 97 | Train/Valid loss: 0.012 / 0.012 | Train/Valid accuracy: 0.680 / 0.672\n",
            " Epoch 98 | Train/Valid loss: 0.012 / 0.012 | Train/Valid accuracy: 0.680 / 0.675\n",
            " Epoch 99 | Train/Valid loss: 0.012 / 0.012 | Train/Valid accuracy: 0.680 / 0.670\n"
          ]
        }
      ],
      "source": [
        "# Mini-Batch\n",
        "\n",
        "# cantidad de epochs\n",
        "epochs = 100\n",
        "\n",
        "train_loss_by_epoch=[]\n",
        "valid_loss_by_epoch=[]\n",
        "\n",
        "# Doble loop algoritmo Mini-Batch\n",
        "for epoch in range(epochs):\n",
        "  \n",
        "  ############################################\n",
        "  ## Entrenamiento\n",
        "  ############################################\n",
        "  nnnetWithEmbeddings.train(True)\n",
        "\n",
        "  epoch_loss = 0\n",
        "  epoch_y_hat = []\n",
        "  epoch_y = []\n",
        "\n",
        "\n",
        "  \n",
        "  for i,data in enumerate(train_dataloader_emb):\n",
        "    # Obtengo los datos del batch de entrenamiento\n",
        "    x_batch, embed_batch_1, embed_batch_2 , y_batch = data\n",
        "    # Copio el batch al dispositivo donde entreno la red neuronal\n",
        "    x_batch = x_batch.to(device).float()\n",
        "    embed_batch_1 = embed_batch_1.to(device).int()\n",
        "    embed_batch_2 = embed_batch_2.to(device).int()\n",
        "    y_batch = y_batch.to(device).long()\n",
        "\n",
        "    # Paso forward\n",
        "    # Limpio optimizer para empezar un nuevo cálculo de gradiente\n",
        "    optimizer.zero_grad()\n",
        "    nnet_output = nnnetWithEmbeddings(x_batch, embed_batch_1, embed_batch_2)\n",
        "    #y_batch_hat = torch.sigmoid(nnet_output)\n",
        "    y_batch_hat = F.softmax(nnet_output,1)\n",
        "    \n",
        "    \n",
        "    #print(nnet_output.shape,y_batch.shape)\n",
        "\n",
        "    # Calculo el loss\n",
        "    loss = loss_function(nnet_output, y_batch)\n",
        "\n",
        "    # Backpropagation\n",
        "    loss.backward()\n",
        "\n",
        "    # Actualizar los parámetros\n",
        "    optimizer.step()\n",
        "\n",
        "    # Almaceno los valores reales y mis predicciones para cálcular las métricas\n",
        "    epoch_y += list(y_batch.detach().cpu().numpy())\n",
        "    epoch_y_hat += list(y_batch_hat.detach().cpu().numpy())\n",
        "    # Acumulo la loss del batch\n",
        "    epoch_loss = epoch_loss + loss.item()\n",
        "  \n",
        "  \n",
        "  \n",
        "  # Calculo la media de la loss\n",
        "  epoch_loss = epoch_loss / n_train\n",
        "  # Almaceno la loss de la epoch para graficar\n",
        "  train_loss_by_epoch.append(epoch_loss)\n",
        "  # Cálculo la métrica de la epoch----\n",
        "\n",
        "  #print(epoch_y)\n",
        "  #print('-----')\n",
        "  #print(epoch_y_hat)\n",
        "  \n",
        "  accuracy = metrics.accuracy_score(epoch_y, [np.argmax(j) for j in epoch_y_hat])\n",
        "\n",
        "  #print(accuracy)\n",
        "  ############################################\n",
        "  ## Validación\n",
        "  ############################################\n",
        "  # Desactivo el cálculo de gradiente para validación\n",
        "  nnnetWithEmbeddings.train(False)\n",
        "\n",
        "  valid_epoch_loss = 0\n",
        "  valid_epoch_y_hat = []\n",
        "  valid_epoch_y = []\n",
        "\n",
        "  for i,data in enumerate(valid_dataloader_emb):\n",
        "    # Obtengo los datos del batch de validación\n",
        "    x_batch, embed_batch_1, embed_batch_2, y_batch = data\n",
        "    # Copio el batch al dispositivo donde entreno la red neuronal\n",
        "    x_batch = x_batch.to(device).float()\n",
        "    embed_batch_1 = embed_batch_1.to(device).int()\n",
        "    embed_batch_2 = embed_batch_2.to(device).int()\n",
        "    y_batch = y_batch.to(device).long()\n",
        "\n",
        "    # Paso forward\n",
        "    nnet_output = nnnetWithEmbeddings(x_batch, embed_batch_1, embed_batch_2)\n",
        "    #y_batch_hat = torch.sigmoid(nnet_output)\n",
        "    y_batch_hat = F.softmax(nnet_output,1)\n",
        "    \n",
        "    # Calculo el loss\n",
        "    loss = loss_function(nnet_output, y_batch)\n",
        "\n",
        "    # En validación no hago backpropagation!!\n",
        "\n",
        "    # Almaceno los valores reales y mis predicciones para cálcular las métricas\n",
        "    valid_epoch_y += list(y_batch.detach().cpu().numpy())\n",
        "    valid_epoch_y_hat += list(y_batch_hat.detach().cpu().numpy())\n",
        "    # Acumulo la loss del batch\n",
        "    valid_epoch_loss = valid_epoch_loss + loss.item()\n",
        "  \n",
        "\n",
        "  # Calculo la media de la loss\n",
        "  valid_epoch_loss = valid_epoch_loss / n_valid\n",
        "  # Almaceno la loss de la epoch para graficar\n",
        "  valid_loss_by_epoch.append(valid_epoch_loss)\n",
        "  # Cálculo la métrica de la epoch\n",
        "  #print('size: ',len(valid_epoch_y))\n",
        "  #print(valid_epoch_y)\n",
        "  #print('-----------')\n",
        "  #print('size: ',len(valid_epoch_y_hat))\n",
        "  #print([np.argmax(j) for j in valid_epoch_y_hat])\n",
        "\n",
        "  valid_accuracy = metrics.accuracy_score(valid_epoch_y, [np.argmax(j) for j in valid_epoch_y_hat])\n",
        "\n",
        "  ############################################\n",
        "  ## Impresión de resultados por epoch\n",
        "  ############################################\n",
        "  print(f\" Epoch {epoch} | \" \\\n",
        "        f\"Train/Valid loss: {epoch_loss:.3f} / {valid_epoch_loss:.3f} | \" \\\n",
        "        f\"Train/Valid accuracy: {accuracy:.3f} / {valid_accuracy:.3f}\")"
      ]
    },
    {
      "cell_type": "code",
      "execution_count": 124,
      "metadata": {},
      "outputs": [
        {
          "data": {
            "text/plain": [
              "Text(0, 0.5, 'BCE')"
            ]
          },
          "execution_count": 124,
          "metadata": {},
          "output_type": "execute_result"
        },
        {
          "data": {
            "image/png": "[encoded data removed]",
            "text/plain": [
              "<Figure size 640x480 with 1 Axes>"
            ]
          },
          "metadata": {},
          "output_type": "display_data"
        }
      ],
      "source": [
        "# Grafica loss por epoch\n",
        "fig, ax1= plt.subplots(1,1)\n",
        "ax1.plot(train_loss_by_epoch, label=\"Train loss\")\n",
        "ax1.plot(valid_loss_by_epoch, label=\"Validation loss\")\n",
        "ax1.legend()\n",
        "ax1.set_title(\"Loss by epoch\")\n",
        "ax1.set_xlabel(\"epoch\")\n",
        "ax1.set_ylabel(\"BCE\")"
      ]
    },
    {
      "attachments": {},
      "cell_type": "markdown",
      "metadata": {},
      "source": [
        "#### PARTE C"
      ]
    },
    {
      "attachments": {},
      "cell_type": "markdown",
      "metadata": {},
      "source": [
        "- El modelo con implementación de embeddings tiene ligeramente mejor resultado que uno sin embedding, pasando de un accuracy de 62% a 68% aproximadamente.\n",
        "\n",
        "- Los modelos implementados logran un porcentaje aceptable de precision pero su limitación puede estar explicado en el significativo numero de filas que fueron elimiandas por contener valores faltantes.\n",
        "\n",
        "- De los modelos implementados se observó que al disminuir el valor de tasa de aprendizaje de 0.01 a 0.001 el proceso de entrenamiento mejoraba signifivcativamente y lograba resultados màs estaables de accuracy.\n",
        "\n",
        "- El aumento de las dimensiones en la capa de embeddings de 8 a 12 mejora ligereamente los resultados de accuracy, pero aumenta el nivel computacional del entrenamiento.\n",
        "\n",
        "- Los graficos y resultados muestran que ambos modelos al parecer no presentan overfitting o underfittin."
      ]
    },
    {
      "attachments": {},
      "cell_type": "markdown",
      "metadata": {},
      "source": [
        "### Bibliografia"
      ]
    },
    {
      "attachments": {},
      "cell_type": "markdown",
      "metadata": {},
      "source": [
        "- https://github.com/FIUBA-Posgrado-Inteligencia-Artificial/aprendizaje_profundo\n",
        "\n",
        "- https://iaexpert.academy/cursos-online-assinatura/deep-learning-pytorch-python-az/\n",
        "\n",
        "- https://www.aprendemachinelearning.com/pronostico-de-ventas-redes-neuronales-python-embeddings/\n"
      ]
    }
  ],
  "metadata": {
    "colab": {
      "provenance": []
    },
    "kernelspec": {
      "display_name": "Python 3",
      "name": "python3"
    },
    "language_info": {
      "codemirror_mode": {
        "name": "ipython",
        "version": 3
      },
      "file_extension": ".py",
      "mimetype": "text/x-python",
      "name": "python",
      "nbconvert_exporter": "python",
      "pygments_lexer": "ipython3",
      "version": "3.9.13"
    }
  },
  "nbformat": 4,
  "nbformat_minor": 0
}
